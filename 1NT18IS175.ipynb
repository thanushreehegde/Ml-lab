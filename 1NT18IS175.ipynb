{
 "cells": [
  {
   "cell_type": "code",
   "execution_count": 10,
   "metadata": {},
   "outputs": [],
   "source": [
    "def variance(data):\n",
    "     \n",
    "     n = len(data)\n",
    "     \n",
    "     mean = sum(data) / n\n",
    "     \n",
    "     deviations = [(x - mean) ** 2 for x in data]\n",
    "     \n",
    "     variance = sum(deviations) / n\n",
    "     return variance"
   ]
  },
  {
   "cell_type": "code",
   "execution_count": 11,
   "metadata": {},
   "outputs": [
    {
     "data": {
      "text/plain": [
       "5.76"
      ]
     },
     "execution_count": 11,
     "metadata": {},
     "output_type": "execute_result"
    }
   ],
   "source": [
    "variance([4, 8, 6, 5, 3, 2, 8, 9, 2, 5])"
   ]
  },
  {
   "cell_type": "code",
   "execution_count": 12,
   "metadata": {},
   "outputs": [],
   "source": [
    "import math"
   ]
  },
  {
   "cell_type": "code",
   "execution_count": 13,
   "metadata": {},
   "outputs": [],
   "source": [
    "def variance(data, ddof=0):\n",
    "     n = len(data)\n",
    "     mean = sum(data) / n\n",
    "     return sum((x - mean) ** 2 for x in data) / (n - ddof)\n"
   ]
  },
  {
   "cell_type": "code",
   "execution_count": 14,
   "metadata": {},
   "outputs": [],
   "source": [
    "def stdev(data):\n",
    "     var = variance(data)\n",
    "     std_dev = math.sqrt(var)\n",
    "     return std_dev"
   ]
  },
  {
   "cell_type": "code",
   "execution_count": 15,
   "metadata": {},
   "outputs": [
    {
     "data": {
      "text/plain": [
       "1.5612494995995996"
      ]
     },
     "execution_count": 15,
     "metadata": {},
     "output_type": "execute_result"
    }
   ],
   "source": [
    "stdev([3,4,6,7,8,5,6,7])"
   ]
  },
  {
   "cell_type": "code",
   "execution_count": 16,
   "metadata": {},
   "outputs": [
    {
     "ename": "IndentationError",
     "evalue": "unexpected indent (<ipython-input-16-71076890070d>, line 2)",
     "output_type": "error",
     "traceback": [
      "\u001b[0;36m  File \u001b[0;32m\"<ipython-input-16-71076890070d>\"\u001b[0;36m, line \u001b[0;32m2\u001b[0m\n\u001b[0;31m    amin, amax = min(a), max(a)\u001b[0m\n\u001b[0m    ^\u001b[0m\n\u001b[0;31mIndentationError\u001b[0m\u001b[0;31m:\u001b[0m unexpected indent\n"
     ]
    }
   ],
   "source": [
    "a = [2,4,10,6,8,4]\n",
    " amin, amax = min(a), max(a)\n",
    " for i, val in enumerate(a):\n",
    "    a[i] = (val-amin) / (amax-amin)"
   ]
  },
  {
   "cell_type": "code",
   "execution_count": 102,
   "metadata": {},
   "outputs": [],
   "source": [
    "a = [2,4,10,6,8,4]"
   ]
  },
  {
   "cell_type": "code",
   "execution_count": 103,
   "metadata": {},
   "outputs": [],
   "source": [
    " xmin, xmax = min(a), max(a)"
   ]
  },
  {
   "cell_type": "code",
   "execution_count": 105,
   "metadata": {},
   "outputs": [
    {
     "name": "stdout",
     "output_type": "stream",
     "text": [
      "value : normalized value\n",
      "\n",
      "4 : 0.25\n"
     ]
    }
   ],
   "source": [
    "print(\"value : normalized value\\n\")\n",
    "for x in a:\n",
    "    n= (x-xmin) / (xmax-xmin)\n",
    "print(\"{} : {}\".format(x,n))\n",
    "          "
   ]
  },
  {
   "cell_type": "code",
   "execution_count": 101,
   "metadata": {},
   "outputs": [
    {
     "name": "stdout",
     "output_type": "stream",
     "text": [
      "4 : 0.25\n"
     ]
    }
   ],
   "source": [
    "print(\"{} : {}\" .format(x,n))"
   ]
  },
  {
   "cell_type": "code",
   "execution_count": 21,
   "metadata": {},
   "outputs": [],
   "source": [
    "def my_mean(sample):\n",
    "...     return sum(sample) / len(sample)"
   ]
  },
  {
   "cell_type": "code",
   "execution_count": 22,
   "metadata": {},
   "outputs": [],
   "source": [
    "def my_median(sample):\n",
    "...     n = len(sample)\n",
    "...     index = n // 2\n",
    "...    \n",
    "...     if n % 2:\n",
    "...         return sorted(sample)[index]\n",
    "...     \n",
    "...     return sum(sorted(sample)[index - 1:index + 1]) / 2\n",
    "..."
   ]
  },
  {
   "cell_type": "code",
   "execution_count": 23,
   "metadata": {},
   "outputs": [],
   "source": [
    "def variance(data, ddof=0):\n",
    "     n = len(data)\n",
    "     mean = sum(data) / n\n",
    "     return sum((x - mean) ** 2 for x in data) / (n - ddof)\n"
   ]
  },
  {
   "cell_type": "code",
   "execution_count": 86,
   "metadata": {},
   "outputs": [],
   "source": [
    "b = [2,4,10,6,8,4]"
   ]
  },
  {
   "cell_type": "code",
   "execution_count": 106,
   "metadata": {},
   "outputs": [
    {
     "name": "stdout",
     "output_type": "stream",
     "text": [
      "value : normalized value\n",
      "\n",
      "2 : 0.0\n",
      "4 : 0.25\n",
      "10 : 1.0\n",
      "6 : 0.5\n",
      "8 : 0.75\n",
      "4 : 0.25\n"
     ]
    }
   ],
   "source": [
    "a = [2,4,10,6,8,4]\n",
    "xmin = min(a)\n",
    "xmax = max(a)\n",
    "print(\"value : normalized value\\n\")\n",
    "for x in a:\n",
    "    n = (x-xmin)/(xmax - xmin)\n",
    "    print(\"{} : {}\".format(x,n))"
   ]
  },
  {
   "cell_type": "code",
   "execution_count": 110,
   "metadata": {
    "scrolled": true
   },
   "outputs": [
    {
     "name": "stdout",
     "output_type": "stream",
     "text": [
      "value : stand value\n",
      "\n",
      "2 : -1.3643820804812932\n",
      "4 : -0.6201736729460424\n",
      "10 : 1.6124515496597098\n",
      "6 : 0.12403473458920836\n",
      "8 : 0.8682431421244592\n",
      "4 : -0.6201736729460424\n"
     ]
    }
   ],
   "source": [
    "import math\n",
    "a = [2,4,10,6,8,4]\n",
    "mean=sum(a)/len(a)\n",
    "variance = sum((i - mean) ** 2 for i in a) / len(a)\n",
    "sd=variance**0.5\n",
    "print(\"value : stand value\\n\")\n",
    "for x in a:\n",
    "    s = (x-mean)/sd \n",
    "    print(\"{} : {}\".format(x,s))\n"
   ]
  },
  {
   "cell_type": "code",
   "execution_count": 1,
   "metadata": {},
   "outputs": [
    {
     "name": "stdout",
     "output_type": "stream",
     "text": [
      "[0.         1.         0.25438596 0.8245614 ]\n"
     ]
    }
   ],
   "source": [
    "import numpy as np\n",
    "dataset = np.array([1.0, 12.4, 3.9, 10.4])\n",
    "normalized_dataset = (dataset - np.min(dataset)) / (np.max(dataset) - np.min(dataset))\n",
    "print(normalized_dataset)"
   ]
  },
  {
   "cell_type": "code",
   "execution_count": 2,
   "metadata": {},
   "outputs": [
    {
     "name": "stdout",
     "output_type": "stream",
     "text": [
      "[[50, 30], [20, 90]]\n",
      "[[20, 50], [30, 90]]\n",
      "[[1.0, 0.0], [0.0, 1.0]]\n"
     ]
    }
   ],
   "source": [
    "def dataset_minmax(dataset1):\n",
    "    minmax = list()\n",
    "    for i in range(len(dataset1[0])):\n",
    "        col_values = [row[i] for row in dataset1]\n",
    "        value_min = min(col_values)\n",
    "        value_max = max(col_values)\n",
    "        minmax.append([value_min, value_max])\n",
    "    return minmax\n",
    " \n",
    "\n",
    "def normalize_dataset(dataset1,minmax):\n",
    "    for row in dataset1:\n",
    "        for i in range(len(row)):\n",
    "            row[i] = (row[i] - minmax[i][0]) / (minmax[i][1] - minmax[i][0])\n",
    " \n",
    "\n",
    "dataset1= [[50, 30], [20, 90]]\n",
    "print(dataset1)\n",
    "\n",
    "minmax = dataset_minmax(dataset1)\n",
    "print(minmax)\n",
    "\n",
    "normalize_dataset(dataset1,minmax)\n",
    "print(dataset1)"
   ]
  },
  {
   "cell_type": "code",
   "execution_count": 3,
   "metadata": {},
   "outputs": [
    {
     "data": {
      "text/plain": [
       "array([[0.8, 0.2, 0.4, 0.4],\n",
       "       [0.1, 0.3, 0.9, 0.3],\n",
       "       [0.5, 0.7, 0.5, 0.1]])"
      ]
     },
     "execution_count": 3,
     "metadata": {},
     "output_type": "execute_result"
    }
   ],
   "source": [
    "from sklearn.preprocessing import Normalizer\n",
    "X = [[4, 1, 2, 2],\n",
    "     [1, 3, 9, 3],\n",
    "     [5, 7, 5, 1]]\n",
    "transformer = Normalizer().fit(X)  # fit does nothing.\n",
    "transformer\n",
    "transformer.transform(X)"
   ]
  },
  {
   "cell_type": "code",
   "execution_count": 4,
   "metadata": {},
   "outputs": [
    {
     "name": "stdout",
     "output_type": "stream",
     "text": [
      "Scaler used:  StandardScaler()\n",
      "Scaler mean: [0.5 0.5]\n",
      "Tranform data: [[-1. -1.]\n",
      " [-1. -1.]\n",
      " [ 1.  1.]\n",
      " [ 1.  1.]]\n",
      "Data [[3. 3.]]\n",
      "[0.         1.         0.25438596 0.8245614 ]\n"
     ]
    }
   ],
   "source": [
    "from sklearn.preprocessing import StandardScaler\n",
    "data = [[0, 0], [0, 0], [1, 1], [1, 1]]\n",
    "scaler = StandardScaler()\n",
    "print(\"Scaler used: \",scaler.fit(data))\n",
    "\n",
    "print(\"Scaler mean:\",scaler.mean_)\n",
    "\n",
    "print(\"Tranform data:\",scaler.transform(data))\n",
    "print(\"Data\",scaler.transform([[2, 2]]))\n",
    "import numpy as np\n",
    "dataset = np.array([1.0, 12.4, 3.9, 10.4])\n",
    "normalized_dataset = (dataset - np.min(dataset)) / (np.max(dataset) - np.min(dataset))\n",
    "print(normalized_dataset)"
   ]
  },
  {
   "cell_type": "code",
   "execution_count": 9,
   "metadata": {},
   "outputs": [
    {
     "name": "stdout",
     "output_type": "stream",
     "text": [
      "[[5.9, 3.2], [4.6, 2.9], [4.7, 3.2], [5.0, 3.0], [4.9, 3.1], [5.1, 3.8], [6.0, 3.0]]\n",
      "[[5.5, 4.2]]\n",
      "[[6.2, 2.8], [6.7, 3.1]]\n",
      "5.17 3.17\n"
     ]
    }
   ],
   "source": [
    " #k-means clustering\n",
    "\n",
    "import math\n",
    "cluster1 = []\n",
    "cluster2 = []\n",
    "cluster3 = []\n",
    "x1,y1 = 6.2,3.2\n",
    "x2,y2 = 6.6,3.7\n",
    "x3,y3 = 6.5,3.0\n",
    "points =[[5.9,3.2],\n",
    "         [4.6,2.9],\n",
    "         [6.2,2.8],\n",
    "         [4.7,3.2],\n",
    "         [5.5,4.2],\n",
    "         [5.0,3.0],\n",
    "         [4.9,3.1],\n",
    "         [6.7,3.1],\n",
    "         [5.1,3.8],\n",
    "         [6.0,3.0]]\n",
    "\n",
    "def eucledian_distance(a,b):\n",
    "    dis1 = math.sqrt((a-x1)**2 + (b-y1)**2)\n",
    "    dis2 = math.sqrt((a-x2)**2 + (b-y2)**2)\n",
    "    dis3 = math.sqrt((a-x3)**2 + (b-y3)**2)\n",
    "    mind = min(dis1,dis2,dis3)\n",
    "    if(mind == dis1):\n",
    "        cluster1.append([a,b])\n",
    "    elif(mind == dis2):\n",
    "        cluster2.append([a,b])\n",
    "    else:\n",
    "        cluster3.append([a,b])\n",
    "        \n",
    "for i,j in points:\n",
    "    eucledian_distance(i,j)\n",
    "\n",
    "print(cluster1)\n",
    "print(cluster2)\n",
    "print(cluster3)\n",
    "sumi = 0\n",
    "sumj = 0\n",
    "for i,j in cluster1:\n",
    "    sumi = sumi + i\n",
    "    sumj = sumj + j\n",
    "nx1 = round(sumi/len(cluster1),2)\n",
    "ny1 = round(sumj/len(cluster1),2)\n",
    "print(nx1,ny1)"
   ]
  },
  {
   "cell_type": "code",
   "execution_count": 45,
   "metadata": {},
   "outputs": [
    {
     "ename": "IndentationError",
     "evalue": "unexpected indent (<ipython-input-45-65e2e7f5af88>, line 30)",
     "output_type": "error",
     "traceback": [
      "\u001b[0;36m  File \u001b[0;32m\"<ipython-input-45-65e2e7f5af88>\"\u001b[0;36m, line \u001b[0;32m30\u001b[0m\n\u001b[0;31m    else:\u001b[0m\n\u001b[0m    ^\u001b[0m\n\u001b[0;31mIndentationError\u001b[0m\u001b[0;31m:\u001b[0m unexpected indent\n"
     ]
    }
   ],
   "source": []
  },
  {
   "cell_type": "code",
   "execution_count": 36,
   "metadata": {},
   "outputs": [],
   "source": [
    "import numpy as np\n",
    "import pandas as pd\n",
    "from copy import deepcopy"
   ]
  },
  {
   "cell_type": "code",
   "execution_count": 37,
   "metadata": {},
   "outputs": [],
   "source": [
    "def euclidean(a,b, ax=1):\n",
    "    return np.linalg.norm(a-b, axis=ax)"
   ]
  },
  {
   "cell_type": "code",
   "execution_count": 38,
   "metadata": {},
   "outputs": [
    {
     "name": "stdout",
     "output_type": "stream",
     "text": [
      "     x    y\n",
      "0  5.9  3.2\n",
      "1  4.6  2.9\n",
      "2  6.2  2.8\n",
      "3  4.7  3.2\n",
      "4  5.5  4.2\n",
      "5  5.0  3.0\n",
      "6  4.9  3.1\n",
      "7  6.7  3.1\n",
      "8  5.7  3.8\n",
      "9  6.0  3.0\n"
     ]
    }
   ],
   "source": [
    "k = 3\n",
    "X = pd.read_csv('data.csv',index_col=False)\n",
    "print(X)"
   ]
  },
  {
   "cell_type": "code",
   "execution_count": 39,
   "metadata": {},
   "outputs": [
    {
     "name": "stdout",
     "output_type": "stream",
     "text": [
      "[[5.9 3.2]\n",
      " [4.6 2.9]\n",
      " [6.2 2.8]\n",
      " [4.7 3.2]\n",
      " [5.5 4.2]\n",
      " [5.  3. ]\n",
      " [4.9 3.1]\n",
      " [6.7 3.1]\n",
      " [5.7 3.8]\n",
      " [6.  3. ]]\n"
     ]
    }
   ],
   "source": [
    "X = pd.read_csv('data.csv',index_col=False)\n",
    "x1 = X['x'].values\n",
    "x2 = X['y'].values\n",
    "X = np.array(list(zip(x1, x2)))\n",
    "print(X)"
   ]
  },
  {
   "cell_type": "code",
   "execution_count": 40,
   "metadata": {},
   "outputs": [
    {
     "name": "stdout",
     "output_type": "stream",
     "text": [
      "Initial Centroids\n",
      "(3, 2)\n"
     ]
    }
   ],
   "source": [
    "C_x = [6.2, 6.6 ,6.5]\n",
    "C_y = [3.2, 3.7, 3.0]\n",
    "Centroid = np.array(list(zip(C_x, C_y)), dtype=np.float32)\n",
    "print(\"Initial Centroids\")\n",
    "print(Centroid.shape)"
   ]
  },
  {
   "cell_type": "code",
   "execution_count": 41,
   "metadata": {},
   "outputs": [
    {
     "name": "stdout",
     "output_type": "stream",
     "text": [
      "[[0. 0.]\n",
      " [0. 0.]\n",
      " [0. 0.]]\n"
     ]
    }
   ],
   "source": [
    "Centroid_old = np.zeros(Centroid.shape)\n",
    "print(Centroid_old)"
   ]
  },
  {
   "cell_type": "code",
   "execution_count": 42,
   "metadata": {},
   "outputs": [
    {
     "name": "stdout",
     "output_type": "stream",
     "text": [
      "[0. 0. 0. 0. 0. 0. 0. 0. 0. 0.]\n",
      "12.537144692236463\n"
     ]
    }
   ],
   "source": [
    "clusters = np.zeros(len(X))\n",
    "print(clusters)\n",
    "error = euclidean(Centroid, Centroid_old, None)\n",
    "print(error)\n",
    "iterr = 0"
   ]
  },
  {
   "cell_type": "code",
   "execution_count": 43,
   "metadata": {},
   "outputs": [
    {
     "name": "stdout",
     "output_type": "stream",
     "text": [
      " Centre of the clusters after  1  Iteration \n",
      " [[5.257143  3.1714287]\n",
      " [5.5       4.2      ]\n",
      " [6.45      2.95     ]]\n",
      "Error  ...  1.5345341\n",
      " Centre of the clusters after  2  Iteration \n",
      " [[4.8   3.05 ]\n",
      " [5.6   4.   ]\n",
      " [6.2   3.025]]\n",
      "Error  ...  0.5846789\n",
      " Centre of the clusters after  3  Iteration \n",
      " [[4.8   3.05 ]\n",
      " [5.6   4.   ]\n",
      " [6.2   3.025]]\n",
      "Error  ...  0.0\n"
     ]
    }
   ],
   "source": [
    "\n",
    "while error != 0:\n",
    "\n",
    "    iterr = iterr + 1\n",
    "    for i in range(len(X)):\n",
    "       \n",
    "        distances = euclidean(X[i], Centroid)\n",
    "        \n",
    "        cluster = np.argmin(distances)\n",
    "        clusters[i] = cluster\n",
    "\n",
    "    Centroid_old = deepcopy(Centroid)\n",
    "        \n",
    "    \n",
    "    for p in range(k):\n",
    "        points = [X[j] for j in range(len(X)) if clusters[j] == p]\n",
    "        Centroid[p] = np.mean(points, axis=0)\n",
    "    print(\" Centre of the clusters after \", iterr,\" Iteration \\n\", Centroid)\n",
    "    error = euclidean(Centroid, Centroid_old, None)\n",
    "    print(\"Error  ... \",error)  \n"
   ]
  },
  {
   "cell_type": "code",
   "execution_count": null,
   "metadata": {},
   "outputs": [],
   "source": []
  },
  {
   "cell_type": "code",
   "execution_count": null,
   "metadata": {},
   "outputs": [],
   "source": []
  }
 ],
 "metadata": {
  "kernelspec": {
   "display_name": "Python 3",
   "language": "python",
   "name": "python3"
  },
  "language_info": {
   "codemirror_mode": {
    "name": "ipython",
    "version": 3
   },
   "file_extension": ".py",
   "mimetype": "text/x-python",
   "name": "python",
   "nbconvert_exporter": "python",
   "pygments_lexer": "ipython3",
   "version": "3.6.9"
  }
 },
 "nbformat": 4,
 "nbformat_minor": 2
}
