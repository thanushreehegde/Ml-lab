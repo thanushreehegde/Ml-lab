{
 "cells": [
  {
   "cell_type": "code",
   "execution_count": 10,
   "metadata": {},
   "outputs": [],
   "source": [
    "def variance(data):\n",
    "     \n",
    "     n = len(data)\n",
    "     \n",
    "     mean = sum(data) / n\n",
    "     \n",
    "     deviations = [(x - mean) ** 2 for x in data]\n",
    "     \n",
    "     variance = sum(deviations) / n\n",
    "     return variance"
   ]
  },
  {
   "cell_type": "code",
   "execution_count": 11,
   "metadata": {},
   "outputs": [
    {
     "data": {
      "text/plain": [
       "5.76"
      ]
     },
     "execution_count": 11,
     "metadata": {},
     "output_type": "execute_result"
    }
   ],
   "source": [
    "variance([4, 8, 6, 5, 3, 2, 8, 9, 2, 5])"
   ]
  },
  {
   "cell_type": "code",
   "execution_count": 12,
   "metadata": {},
   "outputs": [],
   "source": [
    "import math"
   ]
  },
  {
   "cell_type": "code",
   "execution_count": 13,
   "metadata": {},
   "outputs": [],
   "source": [
    "def variance(data, ddof=0):\n",
    "     n = len(data)\n",
    "     mean = sum(data) / n\n",
    "     return sum((x - mean) ** 2 for x in data) / (n - ddof)\n"
   ]
  },
  {
   "cell_type": "code",
   "execution_count": 14,
   "metadata": {},
   "outputs": [],
   "source": [
    "def stdev(data):\n",
    "     var = variance(data)\n",
    "     std_dev = math.sqrt(var)\n",
    "     return std_dev"
   ]
  },
  {
   "cell_type": "code",
   "execution_count": 15,
   "metadata": {},
   "outputs": [
    {
     "data": {
      "text/plain": [
       "1.5612494995995996"
      ]
     },
     "execution_count": 15,
     "metadata": {},
     "output_type": "execute_result"
    }
   ],
   "source": [
    "stdev([3,4,6,7,8,5,6,7])"
   ]
  },
  {
   "cell_type": "code",
   "execution_count": 16,
   "metadata": {},
   "outputs": [
    {
     "ename": "IndentationError",
     "evalue": "unexpected indent (<ipython-input-16-71076890070d>, line 2)",
     "output_type": "error",
     "traceback": [
      "\u001b[0;36m  File \u001b[0;32m\"<ipython-input-16-71076890070d>\"\u001b[0;36m, line \u001b[0;32m2\u001b[0m\n\u001b[0;31m    amin, amax = min(a), max(a)\u001b[0m\n\u001b[0m    ^\u001b[0m\n\u001b[0;31mIndentationError\u001b[0m\u001b[0;31m:\u001b[0m unexpected indent\n"
     ]
    }
   ],
   "source": [
    "a = [2,4,10,6,8,4]\n",
    " amin, amax = min(a), max(a)\n",
    " for i, val in enumerate(a):\n",
    "    a[i] = (val-amin) / (amax-amin)"
   ]
  },
  {
   "cell_type": "code",
   "execution_count": 102,
   "metadata": {},
   "outputs": [],
   "source": [
    "a = [2,4,10,6,8,4]"
   ]
  },
  {
   "cell_type": "code",
   "execution_count": 103,
   "metadata": {},
   "outputs": [],
   "source": [
    " xmin, xmax = min(a), max(a)"
   ]
  },
  {
   "cell_type": "code",
   "execution_count": 105,
   "metadata": {},
   "outputs": [
    {
     "name": "stdout",
     "output_type": "stream",
     "text": [
      "value : normalized value\n",
      "\n",
      "4 : 0.25\n"
     ]
    }
   ],
   "source": [
    "print(\"value : normalized value\\n\")\n",
    "for x in a:\n",
    "    n= (x-xmin) / (xmax-xmin)\n",
    "print(\"{} : {}\".format(x,n))\n",
    "          "
   ]
  },
  {
   "cell_type": "code",
   "execution_count": 101,
   "metadata": {},
   "outputs": [
    {
     "name": "stdout",
     "output_type": "stream",
     "text": [
      "4 : 0.25\n"
     ]
    }
   ],
   "source": [
    "print(\"{} : {}\" .format(x,n))"
   ]
  },
  {
   "cell_type": "code",
   "execution_count": 21,
   "metadata": {},
   "outputs": [],
   "source": [
    "def my_mean(sample):\n",
    "...     return sum(sample) / len(sample)"
   ]
  },
  {
   "cell_type": "code",
   "execution_count": 22,
   "metadata": {},
   "outputs": [],
   "source": [
    "def my_median(sample):\n",
    "...     n = len(sample)\n",
    "...     index = n // 2\n",
    "...    \n",
    "...     if n % 2:\n",
    "...         return sorted(sample)[index]\n",
    "...     \n",
    "...     return sum(sorted(sample)[index - 1:index + 1]) / 2\n",
    "..."
   ]
  },
  {
   "cell_type": "code",
   "execution_count": 23,
   "metadata": {},
   "outputs": [],
   "source": [
    "def variance(data, ddof=0):\n",
    "     n = len(data)\n",
    "     mean = sum(data) / n\n",
    "     return sum((x - mean) ** 2 for x in data) / (n - ddof)\n"
   ]
  },
  {
   "cell_type": "code",
   "execution_count": 86,
   "metadata": {},
   "outputs": [],
   "source": [
    "b = [2,4,10,6,8,4]"
   ]
  },
  {
   "cell_type": "code",
   "execution_count": 106,
   "metadata": {},
   "outputs": [
    {
     "name": "stdout",
     "output_type": "stream",
     "text": [
      "value : normalized value\n",
      "\n",
      "2 : 0.0\n",
      "4 : 0.25\n",
      "10 : 1.0\n",
      "6 : 0.5\n",
      "8 : 0.75\n",
      "4 : 0.25\n"
     ]
    }
   ],
   "source": [
    "a = [2,4,10,6,8,4]\n",
    "xmin = min(a)\n",
    "xmax = max(a)\n",
    "print(\"value : normalized value\\n\")\n",
    "for x in a:\n",
    "    n = (x-xmin)/(xmax - xmin)\n",
    "    print(\"{} : {}\".format(x,n))"
   ]
  },
  {
   "cell_type": "code",
   "execution_count": 110,
   "metadata": {},
   "outputs": [
    {
     "name": "stdout",
     "output_type": "stream",
     "text": [
      "value : stand value\n",
      "\n",
      "2 : -1.3643820804812932\n",
      "4 : -0.6201736729460424\n",
      "10 : 1.6124515496597098\n",
      "6 : 0.12403473458920836\n",
      "8 : 0.8682431421244592\n",
      "4 : -0.6201736729460424\n"
     ]
    }
   ],
   "source": [
    "import math\n",
    "a = [2,4,10,6,8,4]\n",
    "mean=sum(a)/len(a)\n",
    "variance = sum((i - mean) ** 2 for i in a) / len(a)\n",
    "sd=variance**0.5\n",
    "print(\"value : stand value\\n\")\n",
    "for x in a:\n",
    "    s = (x-mean)/sd \n",
    "    print(\"{} : {}\".format(x,s))\n"
   ]
  },
  {
   "cell_type": "code",
   "execution_count": null,
   "metadata": {},
   "outputs": [],
   "source": []
  }
 ],
 "metadata": {
  "kernelspec": {
   "display_name": "Python 3",
   "language": "python",
   "name": "python3"
  },
  "language_info": {
   "codemirror_mode": {
    "name": "ipython",
    "version": 3
   },
   "file_extension": ".py",
   "mimetype": "text/x-python",
   "name": "python",
   "nbconvert_exporter": "python",
   "pygments_lexer": "ipython3",
   "version": "3.6.9"
  }
 },
 "nbformat": 4,
 "nbformat_minor": 2
}
